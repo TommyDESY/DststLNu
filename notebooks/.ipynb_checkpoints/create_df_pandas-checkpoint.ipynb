{
 "cells": [
  {
   "cell_type": "code",
   "execution_count": 1,
   "id": "e30fcd3b-1046-4311-b864-8df3db3749b0",
   "metadata": {},
   "outputs": [],
   "source": [
    "# Create the initial root data frame:\n",
    "# python3 gen.py D1stCh_DPi\n",
    "# Process the data frame using /afs/desy.de/user/t/tommy/dust/Vub/inclusive_xulnu/steering_files/inclusivesl_generator_no_settings.py\n",
    "# python3 inclusivesl_generator_no_settings.py -input /afs/desy.de/user/t/tommy/dust/markus_dstst/D1stCh_DPi.root -output D1stCh_DPi_proc.root"
   ]
  },
  {
   "cell_type": "code",
   "execution_count": 1,
   "id": "4cba1d6d-fc8e-4932-b597-72a09bc775aa",
   "metadata": {},
   "outputs": [],
   "source": [
    "import pandas as pd\n",
    "from importlib_resources import files\n",
    "import uproot\n",
    "import sys\n",
    "import os\n",
    "sys.path.append(os.path.abspath(os.path.join(os.getcwd(), '..')))\n",
    "import root, samples"
   ]
  },
  {
   "cell_type": "code",
   "execution_count": 2,
   "id": "8af95fcc-f915-4931-b60b-8e39aff99032",
   "metadata": {},
   "outputs": [],
   "source": [
    "def root_to_pandas(file_name: str, tree_name: str) -> pd.DataFrame:\n",
    "    \"\"\"\n",
    "    Loads root file via uproot and converts to a dataframe.\n",
    "\n",
    "    Args:\n",
    "        file_name (str): path to file\n",
    "        tree_name (str): name of tree in file\n",
    "\n",
    "    Returns:\n",
    "        pd.DataFrame: dataframe of the ntuple stored in the root file.\n",
    "    \"\"\"\n",
    "    tree = uproot.open(file_name)[tree_name]\n",
    "    try:\n",
    "        df = tree.arrays(library='pd')[0]\n",
    "    except:\n",
    "        df = tree.arrays(library='pd')\n",
    "    finally:\n",
    "        assert isinstance(df, pd.DataFrame)\n",
    "    # defragment with the copy.\n",
    "    return df.copy()"
   ]
  },
  {
   "cell_type": "code",
   "execution_count": 3,
   "id": "2fd92814-86b3-45c4-afe0-ecf185091803",
   "metadata": {},
   "outputs": [],
   "source": [
    "# Save the data frame to pandas parquet format\n",
    "import xulnu.utility\n",
    "df = root_to_pandas(files(root).joinpath('D0stCh_Dpi_BLR_proc.root'), 'InclusiveSLGen')\n",
    "df['__eventType__'] = df['__eventType__'].astype(str)\n",
    "df.to_parquet(files(samples).joinpath('D0stCh_Dpi_BLR_test.pq'), engine='pyarrow')"
   ]
  }
 ],
 "metadata": {
  "kernelspec": {
   "display_name": "Belle2 (light-2503-ceres)",
   "language": "python",
   "name": "belle2_light-2503-ceres"
  },
  "language_info": {
   "codemirror_mode": {
    "name": "ipython",
    "version": 3
   },
   "file_extension": ".py",
   "mimetype": "text/x-python",
   "name": "python",
   "nbconvert_exporter": "python",
   "pygments_lexer": "ipython3",
   "version": "3.11.9"
  }
 },
 "nbformat": 4,
 "nbformat_minor": 5
}
