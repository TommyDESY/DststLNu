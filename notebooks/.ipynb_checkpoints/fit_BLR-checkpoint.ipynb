{
 "cells": [
  {
   "cell_type": "code",
   "execution_count": 3,
   "id": "cf425e6e-b03c-4874-946e-925d257d6b04",
   "metadata": {},
   "outputs": [],
   "source": [
    "import sys\n",
    "import os\n",
    "sys.path.append(os.path.abspath(os.path.join(os.getcwd(), '..')))"
   ]
  },
  {
   "cell_type": "code",
   "execution_count": 11,
   "id": "ee30b89b-d0c6-4e4b-9a67-4413adb83a0f",
   "metadata": {},
   "outputs": [],
   "source": [
    "import numpy as np\n",
    "import pandas as pd\n",
    "import matplotlib.pyplot as plt\n",
    "import pdg\n",
    "import yaml\n",
    "import pickle\n",
    "import uncertainties.unumpy as unp\n",
    "\n",
    "from scripts.hammer_reweight import run_BtoXcLepNu_hammer\n",
    "import samples, database, scripts\n",
    "\n",
    "from typing import Dict, List, Optional, Tuple, Union\n",
    "from hammer.hammerlib import FourMomentum, Hammer, Particle, Process, WTerm, version\n",
    "from importlib_resources import files\n",
    "import xulnu.db.form_factors.xclnu\n",
    "\n",
    "\n",
    "from uncertainties import ufloat, correlated_values_norm, correlated_values, covariance_matrix, correlation_matrix\n",
    "from iminuit import Minuit"
   ]
  },
  {
   "cell_type": "code",
   "execution_count": 12,
   "id": "e0eba8a9-926e-4e28-866d-615d83bbd516",
   "metadata": {},
   "outputs": [
    {
     "name": "stdout",
     "output_type": "stream",
     "text": [
      "100000\n"
     ]
    }
   ],
   "source": [
    "# Load data frame\n",
    "df = pd.read_parquet(files(samples).joinpath('D0stCh_Dpi_BLR.pq'))\n",
    "# Create variable w if needed\n",
    "df['w'] = (pdg.get(511).Mass()**2 + pdg.get(10411).Mass()**2 - df['genq2']) / (2 * pdg.get(511).Mass() * pdg.get(10411).Mass())\n",
    "print(len(df))"
   ]
  },
  {
   "cell_type": "code",
   "execution_count": 13,
   "id": "355a0b81-0456-4ec0-a097-5be66e5816d1",
   "metadata": {},
   "outputs": [],
   "source": [
    "with open(files(database).joinpath('dict_BtoD0stEllNu.yaml'), 'rb') as f:\n",
    "    dict_dstst = yaml.load(f, Loader=yaml.FullLoader)"
   ]
  },
  {
   "cell_type": "code",
   "execution_count": 14,
   "id": "75a6b4ee-606b-48d5-93f4-711a89063e1e",
   "metadata": {},
   "outputs": [
    {
     "data": {
      "text/plain": [
       "{'BtoD0stEllNu_isgw2': {'Xc_string': 'D**0*',\n",
       "  'lep_string': 'Ell',\n",
       "  'model': 'ISGW2',\n",
       "  'num_params': 0},\n",
       " 'BtoD0stEllNu_new': {'Xc_string': 'D**0*',\n",
       "  'corrmat': [[1.0, -0.95, -0.44], [-0.95, 1.0, 0.61], [-0.44, 0.61, 1.0]],\n",
       "  'lep_string': 'Ell',\n",
       "  'model': 'BLR',\n",
       "  'name_0': 'zt1',\n",
       "  'name_1': 'ztp',\n",
       "  'name_2': 'zeta1',\n",
       "  'num_params': 3,\n",
       "  'param_0': 0.7,\n",
       "  'param_1': 0.2,\n",
       "  'param_2': 0.6,\n",
       "  'param_initializer': '{zt1: %f, ztp: %f, zeta1: %f, mb: 4.71, mc: 1.31}',\n",
       "  'uncert_0': 0.21,\n",
       "  'uncert_1': 1.4,\n",
       "  'uncert_2': 0.3}}"
      ]
     },
     "execution_count": 14,
     "metadata": {},
     "output_type": "execute_result"
    }
   ],
   "source": [
    "dict_dstst"
   ]
  },
  {
   "cell_type": "code",
   "execution_count": 15,
   "id": "85cb1ade-f565-430a-85c0-05af9e66027d",
   "metadata": {},
   "outputs": [],
   "source": [
    "def prediction_shape(x):\n",
    "    for i, val in enumerate(x):\n",
    "        dict_dstst['BtoD0stEllNu_new'][f'param_{i}'] = val\n",
    "    ratedict = run_BtoXcLepNu_hammer(df, dict_dstst, verbose=False)\n",
    "    bins=[1.00, 1.08, 1.16, 1.24, 1.32, 1.40]\n",
    "    output_shape, _ = np.histogram(\n",
    "        df['w'],\n",
    "        weights=df['FF_weight_BtoDstst0st_BLR_norm'],\n",
    "        bins=bins, # TODO: binning will depend on data so add this as a function parameter\n",
    "    )\n",
    "    output_shape /= np.sum(output_shape)\n",
    "    return np.array(output_shape)"
   ]
  },
  {
   "cell_type": "code",
   "execution_count": 16,
   "id": "5f15a1de-46a9-4f39-9f82-694049f206a6",
   "metadata": {},
   "outputs": [
    {
     "data": {
      "text/plain": [
       "array([0.02008064, 0.09784186, 0.23542478, 0.43595105, 0.21070167])"
      ]
     },
     "execution_count": 16,
     "metadata": {},
     "output_type": "execute_result"
    },
    {
     "name": "stdout",
     "output_type": "stream",
     "text": [
      "Hammer.RateBase: INFO  Integrating rate 511 -> -10411 14 -13\n",
      "Hammer.RateBase: INFO  Integrating rate 511 -> -10411 14 -13\n",
      "Hammer.RateBase: INFO  Integrating rate 511 -> -10411 12 -11\n",
      "Hammer.RateBase: INFO  Integrating rate 511 -> -10411 12 -11\n",
      "Hammer.RateBase: INFO  Integrating rate 511 -> -10411 14 -13\n",
      "Hammer.RateBase: INFO  Integrating rate 511 -> -10411 14 -13\n",
      "Hammer.RateBase: INFO  Integrating rate 511 -> -10411 12 -11\n",
      "Hammer.RateBase: INFO  Integrating rate 511 -> -10411 12 -11\n"
     ]
    }
   ],
   "source": [
    "prediction_shape([0.70, 0.2, 0.6])"
   ]
  },
  {
   "cell_type": "code",
   "execution_count": 17,
   "id": "7f0fe5cf-d89a-49ed-8f0c-9e76879071a9",
   "metadata": {},
   "outputs": [],
   "source": [
    "# Create some data\n",
    "values = np.array([\n",
    "    ufloat(0.05, 0.02),\n",
    "    ufloat(0.02, 0.05),\n",
    "    ufloat(0.30, 0.08),\n",
    "    ufloat(0.30, 0.09),\n",
    "    ufloat(0.33, 0.13),\n",
    "])\n",
    "central = np.array([cv.nominal_value for cv in values])\n",
    "errors = np.array([cv.std_dev for cv in values])\n",
    "corr_mat = np.array([\n",
    "       [ 1, 0, 0, 0, 0],\n",
    "       [ 0, 1, 0, 0, 0],\n",
    "       [ 0, 0, 1, 0, 0,],\n",
    "       [ 0, 0, 0, 1, 0,],\n",
    "       [ 0, 0, 0, 0, 1,],\n",
    "])\n",
    "\n",
    "cov_mat = np.outer(errors, errors) * corr_mat\n",
    "\n",
    "val_correlated = correlated_values(central, cov_mat)"
   ]
  },
  {
   "cell_type": "code",
   "execution_count": 18,
   "id": "7b51faf5-4aae-4365-ae8c-6ddfd5ea16e5",
   "metadata": {},
   "outputs": [
    {
     "name": "stdout",
     "output_type": "stream",
     "text": [
      "[[2500.            0.            0.            0.            0.        ]\n",
      " [   0.          400.            0.            0.            0.        ]\n",
      " [   0.            0.          156.25          0.            0.        ]\n",
      " [   0.            0.            0.          123.45679012    0.        ]\n",
      " [   0.            0.            0.            0.           59.17159763]]\n"
     ]
    }
   ],
   "source": [
    "data_shape_covariance_fit = np.array(covariance_matrix(val_correlated))\n",
    "shape_Cinv = np.linalg.inv(data_shape_covariance_fit)  # Just do it once because it is computational expensive\n",
    "data_shape_fit = np.array(unp.nominal_values(val_correlated))\n",
    "print(shape_Cinv)"
   ]
  },
  {
   "cell_type": "code",
   "execution_count": 19,
   "id": "4caa378b-3abd-4557-a864-d92486ba3054",
   "metadata": {},
   "outputs": [],
   "source": [
    "def chi2_blr_broad(zt1, ztp, zeta1): # Vcb?\n",
    "    x = np.array([zt1, ztp, zeta1])\n",
    "    # print(x)\n",
    "    \n",
    "    # Useful variabales here:\n",
    "    # data_shape_fit\n",
    "    # shape_Cinv\n",
    "    # data_norm_fit\n",
    "    # hA1_2014\n",
    "\n",
    "    prediction = prediction_shape(x)\n",
    "    # print(prediction)\n",
    "\n",
    "    delta = prediction - data_shape_fit\n",
    "    # print(delta)\n",
    "    chi2_shape = delta.transpose() @ shape_Cinv @ delta\n",
    "    \n",
    "    # chi2_norm = (data_norm_fit.n - prediction_rate(x)) ** 2 / data_norm_fit.s **2\n",
    "    \n",
    "    # chi2_lattice = (hA1_2014.n - prediction_form_factor(x)) ** 2 / hA1_2014.s ** 2\n",
    "\n",
    "    return chi2_shape # chi2_norm + chi2_lattice +"
   ]
  },
  {
   "cell_type": "code",
   "execution_count": 20,
   "id": "8892bf4c-6a0f-4093-b073-a2ac4bfd2301",
   "metadata": {
    "scrolled": true
   },
   "outputs": [
    {
     "data": {
      "text/plain": [
       "8.437166911234373"
      ]
     },
     "execution_count": 20,
     "metadata": {},
     "output_type": "execute_result"
    },
    {
     "name": "stdout",
     "output_type": "stream",
     "text": [
      "Hammer.RateBase: INFO  Integrating rate 511 -> -10411 14 -13\n",
      "Hammer.RateBase: INFO  Integrating rate 511 -> -10411 14 -13\n",
      "Hammer.RateBase: INFO  Integrating rate 511 -> -10411 12 -11\n",
      "Hammer.RateBase: INFO  Integrating rate 511 -> -10411 12 -11\n",
      "Hammer.RateBase: INFO  Integrating rate 511 -> -10411 14 -13\n",
      "Hammer.RateBase: INFO  Integrating rate 511 -> -10411 14 -13\n",
      "Hammer.RateBase: INFO  Integrating rate 511 -> -10411 12 -11\n",
      "Hammer.RateBase: INFO  Integrating rate 511 -> -10411 12 -11\n"
     ]
    }
   ],
   "source": [
    "chi2_blr_broad(0.70, 0.2, 0.6)"
   ]
  },
  {
   "cell_type": "code",
   "execution_count": null,
   "id": "60cfe094-2463-4634-953e-9523b623c9ef",
   "metadata": {
    "scrolled": true
   },
   "outputs": [],
   "source": [
    "m = Minuit(\n",
    "    chi2_blr_broad,\n",
    "    zt1=0.70,\n",
    "    ztp=0.2,\n",
    "    zeta1=0.6,\n",
    ")\n",
    "\n",
    "m.simplex()\n",
    "m.migrad()\n",
    "m.hesse()\n",
    "m"
   ]
  },
  {
   "cell_type": "code",
   "execution_count": null,
   "id": "d8fe9243-c4b2-4306-bb1e-1251574f049f",
   "metadata": {},
   "outputs": [],
   "source": [
    "dict_res = {}\n",
    "dict_res['values'] = m.values\n",
    "dict_res['covariance'] = m.covariance\n",
    "with open('results/fit_res_BLR_to_BLR.pickle', 'wb') as f:\n",
    "    pickle.dump(dict_res, f)"
   ]
  },
  {
   "cell_type": "code",
   "execution_count": null,
   "id": "88a2566b-1191-4817-8385-f96975b113c8",
   "metadata": {},
   "outputs": [],
   "source": []
  },
  {
   "cell_type": "code",
   "execution_count": null,
   "id": "b0780cd5-756d-4b05-9d25-e5db8834074f",
   "metadata": {},
   "outputs": [],
   "source": []
  },
  {
   "cell_type": "code",
   "execution_count": null,
   "id": "b5cbba95-9d57-4394-96b5-c69da322884e",
   "metadata": {},
   "outputs": [],
   "source": []
  },
  {
   "cell_type": "code",
   "execution_count": 15,
   "id": "cab112bd-cc72-4af8-85f4-b0ece274906e",
   "metadata": {},
   "outputs": [
    {
     "name": "stdout",
     "output_type": "stream",
     "text": [
      "Hammer.RateBase: INFO  Integrating rate 511 -> -10411 14 -13\n",
      "Hammer.RateBase: INFO  Integrating rate 511 -> -10411 14 -13\n",
      "Hammer.RateBase: INFO  Integrating rate 511 -> -10411 12 -11\n",
      "Hammer.RateBase: INFO  Integrating rate 511 -> -10411 12 -11\n",
      "Hammer.RateBase: INFO  Integrating rate 511 -> -10411 14 -13\n",
      "Hammer.RateBase: INFO  Integrating rate 511 -> -10411 14 -13\n",
      "Hammer.RateBase: INFO  Integrating rate 511 -> -10411 12 -11\n",
      "Hammer.RateBase: INFO  Integrating rate 511 -> -10411 12 -11\n"
     ]
    }
   ],
   "source": [
    "run_BtoXcLepNu_hammer(df, dict_dstst, verbose=False)\n",
    "output_shape, _ = np.histogram(\n",
    "    df['w'],\n",
    "    weights=df['FF_weight_BtoDstst0st_BLR_norm'],\n",
    "    bins=[1.00, 1.08, 1.16, 1.24, 1.32, 1.40],\n",
    ")"
   ]
  },
  {
   "cell_type": "code",
   "execution_count": 16,
   "id": "a9ff4e6b-9550-4c72-b082-cb33b5213772",
   "metadata": {},
   "outputs": [
    {
     "data": {
      "image/png": "[encoded data removed]",
      "text/plain": [
       "<Figure size 640x480 with 1 Axes>"
      ]
     },
     "metadata": {},
     "output_type": "display_data"
    }
   ],
   "source": [
    "plt.hist(\n",
    "    df['w'],\n",
    "    weights=df['FF_weight_BtoDstst0st_BLR_norm'],\n",
    "    bins=[1.00, 1.08, 1.16, 1.24, 1.32, 1.40],\n",
    "    histtype='step',\n",
    "    color='blue'\n",
    ")\n",
    "plt.hist(\n",
    "    df['w'],\n",
    "    bins=[1.00, 1.08, 1.16, 1.24, 1.32, 1.40],\n",
    "    histtype='step',\n",
    "    color='red'\n",
    ")\n",
    "\n",
    "plt.show()"
   ]
  },
  {
   "cell_type": "code",
   "execution_count": 17,
   "id": "bd493e5e-cf6d-44c0-8d61-56e054fba755",
   "metadata": {},
   "outputs": [
    {
     "data": {
      "text/plain": [
       "FF_weight_BtoDstst0st_BLR_norm\n",
       "1.000891    1\n",
       "1.001763    1\n",
       "0.999764    1\n",
       "0.999730    1\n",
       "1.000476    1\n",
       "           ..\n",
       "0.998894    1\n",
       "0.999405    1\n",
       "1.000500    1\n",
       "1.002029    1\n",
       "1.001550    1\n",
       "Name: count, Length: 100000, dtype: int64"
      ]
     },
     "execution_count": 17,
     "metadata": {},
     "output_type": "execute_result"
    }
   ],
   "source": [
    "df['FF_weight_BtoDstst0st_BLR_norm'].value_counts(dropna=False)"
   ]
  },
  {
   "cell_type": "code",
   "execution_count": 18,
   "id": "fd1d44a4-309f-4162-9fc3-b8eabedb7e58",
   "metadata": {},
   "outputs": [
    {
     "data": {
      "text/plain": [
       "0.9967337130798297"
      ]
     },
     "execution_count": 18,
     "metadata": {},
     "output_type": "execute_result"
    }
   ],
   "source": [
    "df['FF_weight_BtoDstst0st_BLR_norm'].min()"
   ]
  },
  {
   "cell_type": "code",
   "execution_count": 19,
   "id": "20f00831-0564-41fd-8c1f-32471457a445",
   "metadata": {},
   "outputs": [
    {
     "data": {
      "text/plain": [
       "1.0031569599386463"
      ]
     },
     "execution_count": 19,
     "metadata": {},
     "output_type": "execute_result"
    }
   ],
   "source": [
    "df['FF_weight_BtoDstst0st_BLR_norm'].max()"
   ]
  },
  {
   "cell_type": "code",
   "execution_count": null,
   "id": "85224c20-add8-4fcf-8863-d1eac697539d",
   "metadata": {},
   "outputs": [],
   "source": []
  },
  {
   "cell_type": "code",
   "execution_count": null,
   "id": "5448ab31-1ca5-425f-9819-508ec7fe09bf",
   "metadata": {},
   "outputs": [],
   "source": []
  }
 ],
 "metadata": {
  "kernelspec": {
   "display_name": "Belle2 (light-2503-ceres)",
   "language": "python",
   "name": "belle2_light-2503-ceres"
  },
  "language_info": {
   "codemirror_mode": {
    "name": "ipython",
    "version": 3
   },
   "file_extension": ".py",
   "mimetype": "text/x-python",
   "name": "python",
   "nbconvert_exporter": "python",
   "pygments_lexer": "ipython3",
   "version": "3.11.9"
  }
 },
 "nbformat": 4,
 "nbformat_minor": 5
}
